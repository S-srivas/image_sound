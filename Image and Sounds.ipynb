{
 "cells": [
  {
   "cell_type": "code",
   "execution_count": 1,
   "metadata": {},
   "outputs": [],
   "source": [
    "# Main function\n",
    "from PIL import Image, ImageFilter\n",
    "from IPython.display import Audio\n",
    "from numpy.fft import fft, ifft\n",
    "from scipy.io.wavfile import read, write\n",
    "%matplotlib inline"
   ]
  },
  {
   "cell_type": "code",
   "execution_count": 2,
   "metadata": {},
   "outputs": [
    {
     "name": "stdout",
     "output_type": "stream",
     "text": [
      "Welcome. Please choose one of these three animals: Dolphin, Fox, or Owl\n",
      "Enter your chosen animal: owl\n",
      "you chose: owl\n"
     ]
    }
   ],
   "source": [
    "print('Welcome. Please choose one of these three animals: Dolphin, Fox, or Owl')\n",
    "i = input('Enter your chosen animal: ')\n",
    "print ('you chose:', i)"
   ]
  },
  {
   "cell_type": "code",
   "execution_count": 3,
   "metadata": {},
   "outputs": [],
   "source": [
    "def showNPlay(image, sound):\n",
    "    im = Image.open(image)\n",
    "    im.show()\n",
    "    #Fs, data = read(sound)\n",
    "    #print ('Sampling frequency is ', Fs)\n",
    "    #data = data[:,0]\n",
    "    #Audio(data, rate=Fs)\n",
    "    playsound (sound)"
   ]
  },
  {
   "cell_type": "code",
   "execution_count": 4,
   "metadata": {},
   "outputs": [
    {
     "ename": "NameError",
     "evalue": "name 'playsound' is not defined",
     "output_type": "error",
     "traceback": [
      "\u001b[0;31m---------------------------------------------------------------------------\u001b[0m",
      "\u001b[0;31mNameError\u001b[0m                                 Traceback (most recent call last)",
      "\u001b[0;32m<ipython-input-4-739e14ccabc7>\u001b[0m in \u001b[0;36m<module>\u001b[0;34m\u001b[0m\n\u001b[1;32m      6\u001b[0m \u001b[0;34m\u001b[0m\u001b[0m\n\u001b[1;32m      7\u001b[0m \u001b[0;32melif\u001b[0m \u001b[0mi\u001b[0m \u001b[0;34m==\u001b[0m \u001b[0;34m'owl'\u001b[0m\u001b[0;34m:\u001b[0m\u001b[0;34m\u001b[0m\u001b[0;34m\u001b[0m\u001b[0m\n\u001b[0;32m----> 8\u001b[0;31m     \u001b[0mshowNPlay\u001b[0m\u001b[0;34m(\u001b[0m\u001b[0;34m'owl.jpg'\u001b[0m\u001b[0;34m,\u001b[0m\u001b[0;34m'Big Plans.wav'\u001b[0m\u001b[0;34m)\u001b[0m\u001b[0;34m\u001b[0m\u001b[0;34m\u001b[0m\u001b[0m\n\u001b[0m\u001b[1;32m      9\u001b[0m \u001b[0;34m\u001b[0m\u001b[0m\n\u001b[1;32m     10\u001b[0m \u001b[0;32melse\u001b[0m\u001b[0;34m:\u001b[0m\u001b[0;34m\u001b[0m\u001b[0;34m\u001b[0m\u001b[0m\n",
      "\u001b[0;32m<ipython-input-3-46f62d80fe63>\u001b[0m in \u001b[0;36mshowNPlay\u001b[0;34m(image, sound)\u001b[0m\n\u001b[1;32m      6\u001b[0m     \u001b[0;31m#data = data[:,0]\u001b[0m\u001b[0;34m\u001b[0m\u001b[0;34m\u001b[0m\u001b[0;34m\u001b[0m\u001b[0m\n\u001b[1;32m      7\u001b[0m     \u001b[0;31m#Audio(data, rate=Fs)\u001b[0m\u001b[0;34m\u001b[0m\u001b[0;34m\u001b[0m\u001b[0;34m\u001b[0m\u001b[0m\n\u001b[0;32m----> 8\u001b[0;31m     \u001b[0mplaysound\u001b[0m \u001b[0;34m(\u001b[0m\u001b[0msound\u001b[0m\u001b[0;34m)\u001b[0m\u001b[0;34m\u001b[0m\u001b[0;34m\u001b[0m\u001b[0m\n\u001b[0m",
      "\u001b[0;31mNameError\u001b[0m: name 'playsound' is not defined"
     ]
    }
   ],
   "source": [
    "if i == 'fox':\n",
    "    showNPlay('fox.jpg','SSLP.wav')\n",
    "\n",
    "elif i == 'dolphin':\n",
    "    showNPlay('dolphin.jpg','Barcelona.wav')\n",
    "    \n",
    "elif i == 'owl':\n",
    "    showNPlay('owl.jpg','Big Plans.wav')\n",
    "    \n",
    "else:\n",
    "    print('Sorry, this is an error')"
   ]
  },
  {
   "cell_type": "code",
   "execution_count": null,
   "metadata": {},
   "outputs": [],
   "source": []
  }
 ],
 "metadata": {
  "kernelspec": {
   "display_name": "Python 3",
   "language": "python",
   "name": "python3"
  },
  "language_info": {
   "codemirror_mode": {
    "name": "ipython",
    "version": 3
   },
   "file_extension": ".py",
   "mimetype": "text/x-python",
   "name": "python",
   "nbconvert_exporter": "python",
   "pygments_lexer": "ipython3",
   "version": "3.8.3"
  }
 },
 "nbformat": 4,
 "nbformat_minor": 2
}
